{
 "cells": [
  {
   "cell_type": "markdown",
   "id": "125a8759-1bf8-4442-88ca-1fbd857087b8",
   "metadata": {},
   "source": [
    "<h1><center>\n",
    "pymcabc: A Particle Physics Toy Toolbox for the ABC Model\n",
    "</center></h1>\n",
    "<h3><center>\n",
    "Aman Desai <br><br>\n",
    "<a>amanmukeshdesai@gmail.com</a>\n",
    "</center></h3>\n",
    "\n",
    "**PyPI** https://pypi.org/project/pymcabc/\n",
    "\n",
    "**Source** https://github.com/amanmdesai/pymcabc\n",
    "\n",
    "**PrePrint** https://zenodo.org/record/8181098\n",
    "\n",
    "**Current Software Version** 1.1"
   ]
  },
  {
   "cell_type": "markdown",
   "id": "6135ce3f-98db-4af8-82e6-095ecb184449",
   "metadata": {},
   "source": [
    "========================================================================="
   ]
  },
  {
   "cell_type": "markdown",
   "id": "3a796c22-6d30-4582-a6bb-1406af85913c",
   "metadata": {},
   "source": [
    "### In this talk:\n",
    "\n",
    "- ABC model of particle physics\n",
    "- Features and use of pymcabc software\n",
    "- Lineshape of heavy scalar mediator with pymcabc"
   ]
  },
  {
   "cell_type": "markdown",
   "id": "2202e8a5-0162-4a5a-8935-caab7f37de93",
   "metadata": {},
   "source": [
    "========================================================================="
   ]
  },
  {
   "cell_type": "markdown",
   "id": "6ac43a2c-7d1a-4e61-8e4d-4af47798cb9d",
   "metadata": {},
   "source": [
    "### ABC Model\n",
    "\n",
    "**Motivation**: The ABC model simplifies understanding:\n",
    "- Feynman Diagrams - Matrix element (Dynamics)\n",
    "- Tree-level Results can be cross-checked by pencil-paper\n",
    "\n",
    "\n",
    "**Features**\n",
    "\n",
    "- The ABC model consists of three scalar particles (spin-zero).\n",
    "- Interaction is only possible when all three particles are present at the interaction vertex.\n",
    "- QFT ideas such as Feynman diagrams, regularization, renormalization can be illustrated with the ABC model.\n",
    "\n",
    "#### Lagrangian of the ABC model\n",
    "\n",
    "$\\mathcal{L} = \n",
    "\\frac{1}{2} \\partial_{\\mu} \\phi_{A} \\partial^{\\mu}\\phi_{A} +\n",
    "\\frac{1}{2} \\partial_{\\mu} \\phi_{B} \\partial^{\\mu}\\phi_{B} +  \n",
    "\\frac{1}{2} \\partial_{\\mu} \\phi_{C} \\partial^{\\mu}\\phi_{C}  -  \n",
    "\\frac{1}{2} m_{A}^{2} \\phi_{A}^2  - \n",
    "\\frac{1}{2} m_{B}^{2} \\phi_{B}^2  - \n",
    "\\frac{1}{2} m_{C}^{2} \\phi_{C}^2  - \n",
    " ig \\phi_{A}\\phi_{B}\\phi_{C}\n",
    "$\n",
    "\n",
    "- $\\phi_i$ - wavefunction of a particle\n",
    "- $m$ -  mass of the particle\n",
    "- $g$ -  coupling constant.\n",
    "\n",
    "\n",
    "Each particle, if free, follows the Klein-Gordon Equation.\n",
    "\n",
    " $ig \\phi_{A}\\phi_{B}\\phi_{C}$\n",
    "is the interaction term"
   ]
  },
  {
   "cell_type": "markdown",
   "id": "31c3b99e-20ce-476a-8dbf-d05f5a225fe1",
   "metadata": {},
   "source": [
    "========================================================================="
   ]
  },
  {
   "cell_type": "markdown",
   "id": "22d868f6-0ceb-4ab4-a40c-59d180ef7ddd",
   "metadata": {},
   "source": [
    "### The pymcabc software\n",
    "\n",
    "- Computes differential/total cross-section and decay widths (Dynamics, Kinematics/Phase-space)\n",
    "- Can work with ***any*** Leading-Order process in the ABC model \n",
    "- Generates Feynman diagrams \n",
    "- Simulates Scattering processes \n",
    "- Simulates the decay heavy particle in final state\n",
    "- Possible to get 2, 3 or 4 particles final state\n",
    "- Toy detector effects assuming separate resolution for momentum and energy measurements\n",
    "- Specific channel simulation for the individual $s-, t-,$ and $u-$ channels (may not be physical). \n",
    "- Output in \".csv\" and \".root\" format for analysis.\n",
    "- Analysis with Pandas, Uproot, PyROOT, ROOT, possible\n",
    "- Minimum user interaction required\n",
    "- Documentation included in preprint"
   ]
  },
  {
   "cell_type": "markdown",
   "id": "71ef6fd3-7efc-4275-9bdd-cfa637a98a7a",
   "metadata": {},
   "source": [
    "========================================================================="
   ]
  },
  {
   "cell_type": "markdown",
   "id": "28b37d5a-d193-4c3e-bc17-687b4eb4d828",
   "metadata": {},
   "source": [
    "### Installation\n",
    "\n",
    "via terminal: \n",
    "\n",
    "```code\n",
    "pip install pymcabc\n",
    "```"
   ]
  },
  {
   "cell_type": "code",
   "execution_count": null,
   "id": "ca610a80-7b41-448a-b81d-8514b7dac5b2",
   "metadata": {},
   "outputs": [],
   "source": [
    "#! pip install pymcabc "
   ]
  },
  {
   "cell_type": "markdown",
   "id": "09449c45-a8fe-4a8f-a588-0eee7f9aa959",
   "metadata": {},
   "source": [
    "========================================================================="
   ]
  },
  {
   "cell_type": "markdown",
   "id": "f759c056-a6a7-4291-a0fe-c8a26a554ac2",
   "metadata": {},
   "source": [
    "### Simulating $A C \\rightarrow B^* \\rightarrow A C$ process with pymcabc\n",
    "\n",
    "- Scattering process. \n",
    "- Note that $B*$ is virtual."
   ]
  },
  {
   "cell_type": "markdown",
   "id": "1fbcec67-1f21-4219-8813-a2e664f2886e",
   "metadata": {},
   "source": [
    "**Step 1.** Import the package"
   ]
  },
  {
   "cell_type": "code",
   "execution_count": null,
   "id": "7dd8969a-52d1-4cda-8a16-e2aff2e1a72f",
   "metadata": {},
   "outputs": [],
   "source": [
    "import pymcabc"
   ]
  },
  {
   "cell_type": "markdown",
   "id": "1cccd3cb-488b-40fb-a190-73a0b57a121d",
   "metadata": {},
   "source": [
    "\n"
   ]
  },
  {
   "cell_type": "markdown",
   "id": "845642af-437d-4aba-9941-a492a193fc2a",
   "metadata": {},
   "source": [
    "**Step 2.** Define the physics process, model parameters ($m_i$) and ($g = 1$).\n",
    "\n",
    "No need to define the mediator explicitly."
   ]
  },
  {
   "cell_type": "code",
   "execution_count": null,
   "id": "559f8e14-3660-41bd-83b3-c39463a78591",
   "metadata": {},
   "outputs": [],
   "source": [
    "pymcabc.DefineProcess(\"A C > A C\", mA = 20, mB = 2, mC = 4, pi = 15)"
   ]
  },
  {
   "cell_type": "markdown",
   "id": "6186470b-8c1c-4567-8792-00ed4814a794",
   "metadata": {},
   "source": [
    "\n"
   ]
  },
  {
   "cell_type": "markdown",
   "id": "fff5f1b5-c829-4dec-bb11-7925b8be3066",
   "metadata": {},
   "source": [
    "**Step 3.** Obtain Feynman diagrams of possible scattering and decay processes"
   ]
  },
  {
   "cell_type": "code",
   "execution_count": null,
   "id": "187fc4d2-5f0d-4df5-a56b-03d4e5352082",
   "metadata": {},
   "outputs": [],
   "source": [
    "pymcabc.FeynmanDiagram()"
   ]
  },
  {
   "cell_type": "markdown",
   "id": "0d6b47c8-956e-4ecf-aefc-f86c9fc640cb",
   "metadata": {},
   "source": [
    "\n"
   ]
  },
  {
   "cell_type": "markdown",
   "id": "6115e216-c11f-4f7b-b1f9-a8fbc5b7df60",
   "metadata": {},
   "source": [
    "**Step 4.** Calculate the cross-section (obtained in barn units)"
   ]
  },
  {
   "cell_type": "code",
   "execution_count": null,
   "id": "7bf65274-0580-4dd5-80ce-7f7dd24b8931",
   "metadata": {},
   "outputs": [],
   "source": [
    "pymcabc.CrossSection().calc_xsection()"
   ]
  },
  {
   "cell_type": "markdown",
   "id": "4782a760-523b-4f96-8970-4afab52acd08",
   "metadata": {},
   "source": [
    "\n"
   ]
  },
  {
   "cell_type": "markdown",
   "id": "63331cdc-bf4f-45c7-b129-e71f2d128cf7",
   "metadata": {},
   "source": [
    "**Step 5.** Simulate the process (set properties to define whether one wants decay of heavy particle state, detector) "
   ]
  },
  {
   "cell_type": "code",
   "execution_count": null,
   "id": "6af24ac1-0e57-44b4-b3e9-e76c4e801d9f",
   "metadata": {},
   "outputs": [],
   "source": [
    "pymcabc.SaveEvent(100, boolDecay=True, boolDetector=True).to_root(\"file_test_ac_ac.root\")"
   ]
  },
  {
   "cell_type": "markdown",
   "id": "8fbf7397-ffd8-49b6-828a-591304830360",
   "metadata": {},
   "source": [
    "\n"
   ]
  },
  {
   "cell_type": "markdown",
   "id": "b5208628-e14e-4014-9f3a-c883a698312b",
   "metadata": {},
   "source": [
    "**Optional Step** Convert file into csv format"
   ]
  },
  {
   "cell_type": "code",
   "execution_count": null,
   "id": "a434788b-f24c-484e-a4e7-cd864af3d291",
   "metadata": {},
   "outputs": [],
   "source": [
    "pymcabc.convert_tocsv(inputname =\"file_test_ac_ac.root\",outputname =\"file_test_ac_ac.csv\")"
   ]
  },
  {
   "cell_type": "markdown",
   "id": "b06c7de9-c8b2-4d17-8891-b164042fec05",
   "metadata": {},
   "source": [
    "\n"
   ]
  },
  {
   "cell_type": "markdown",
   "id": "f9c6671f-a5d1-4631-9f3f-b6aac226c248",
   "metadata": {},
   "source": [
    "~~~\n",
    "\n",
    "~~~\n",
    "### Toy Detector Configuration\n",
    "\n",
    "**Parameters**:\n",
    "- ```detector_sigma``` - gaussian width for energy measurements\n",
    "- ```detector_factor``` - control the relative gaussian width for momentum measurements \n",
    "\n",
    "**Example Usage**\n",
    "```\n",
    "pymcabc.SaveEvent(100, boolDecay=True, boolDetector=True,detector_sigma=1.2, detector_factor=0.9).to_root(\"file_test_ac_ac.root\")\n",
    "```\n",
    "defines a detector configuration with: \n",
    "- the gaussian width in energy measurements is 1.2 $\\sigma$ \n",
    "- for momentum measurements it is 1.08  $\\sigma$.\n",
    "\n",
    "~~~\n",
    "\n",
    "~~~"
   ]
  },
  {
   "cell_type": "markdown",
   "id": "e11a6878-c5fb-46a4-a3ba-88edb7dcd9d9",
   "metadata": {},
   "source": [
    "**Step 6.**  Plot the MC data"
   ]
  },
  {
   "cell_type": "code",
   "execution_count": null,
   "id": "05180a36-d6f9-4267-baab-0adab37be343",
   "metadata": {},
   "outputs": [],
   "source": [
    "pymcabc.PlotData.file(\"file_test_ac_ac.root\")"
   ]
  },
  {
   "cell_type": "markdown",
   "id": "02dec25f-a5ee-41cb-83c4-1f8b21f97815",
   "metadata": {},
   "source": [
    "\n",
    "\n",
    "\n",
    "~~~\n",
    "\n",
    "~~~\n"
   ]
  },
  {
   "cell_type": "markdown",
   "id": "8b0d4495-f881-4bfb-8376-f7750fd9ef73",
   "metadata": {},
   "source": [
    "### Lineshape of a Heavy mediator with pymcabc\n"
   ]
  },
  {
   "cell_type": "markdown",
   "id": "6abe800e-9493-4844-92a7-b28de5060801",
   "metadata": {},
   "source": [
    " $s-$channel process: $\\sigma$ increases as $E_{cm} \\rightarrow Mass_{mediator}$ \n",
    "\n"
   ]
  },
  {
   "cell_type": "markdown",
   "id": "3a2fb883-3750-4d82-ad77-ef1c22e5befc",
   "metadata": {},
   "source": [
    "**Step 1.** Import necessary softwares"
   ]
  },
  {
   "cell_type": "code",
   "execution_count": null,
   "id": "1351d265-7997-4bad-9855-5fbb1e0e85a9",
   "metadata": {},
   "outputs": [],
   "source": [
    "from decimal import Decimal\n",
    "\n",
    "import matplotlib.pyplot as plt\n",
    "import numpy as np\n",
    "import pymcabc"
   ]
  },
  {
   "cell_type": "markdown",
   "id": "5f536b93-637e-40af-8b8c-89278685196f",
   "metadata": {},
   "source": [
    "\n",
    "**Step 2.** Define a set of momentum/energies\n"
   ]
  },
  {
   "cell_type": "code",
   "execution_count": null,
   "id": "06b5791c-a27d-4ddd-b2c0-b14c95fec7fa",
   "metadata": {},
   "outputs": [],
   "source": [
    "p = np.linspace(.1,50,100)\n",
    "sigma = [0]*len(p)\n",
    "energy = [0]*len(p)"
   ]
  },
  {
   "cell_type": "markdown",
   "id": "1372b8ae-7455-4d77-a5a3-c88f873cae34",
   "metadata": {},
   "source": [
    "**Step 3.** Run pymcabc to evaluate cross section over a set momentum"
   ]
  },
  {
   "cell_type": "code",
   "execution_count": null,
   "id": "a34ced1c-fb3f-457d-bd06-c8cca2d25a5a",
   "metadata": {},
   "outputs": [],
   "source": [
    "for i in range(len(p)):\n",
    "    a=pymcabc.DefineProcess('B C > B C',mA=35,mB=1,mC=1,pi=p[i],channel='s')\n",
    "    width = a.width()\n",
    "    energy[i] = a.ECM()[2]\n",
    "    _sigma,error=pymcabc.CrossSection().calc_xsection(N=2000) # N is the number of MC integration points\n",
    "    sigma[i] = _sigma*1e12"
   ]
  },
  {
   "cell_type": "markdown",
   "id": "5a4dedc6-089c-4c0c-bd1d-2883f5023659",
   "metadata": {},
   "source": [
    "**Step 4.** Finally make plots"
   ]
  },
  {
   "cell_type": "code",
   "execution_count": null,
   "id": "3484cf70-a477-4966-b3b8-36c9db3c2710",
   "metadata": {},
   "outputs": [],
   "source": [
    "fig, ax = plt.subplots(figsize=(6,6))\n",
    "ax.plot(energy, sigma, marker='o', markersize=3, label='$m_A$ = 35' + r' GeV, $\\Gamma_{A}$ = '+str('%.2E' %Decimal(width)) + ' GeV')\n",
    "ax.set_ylim(1e-5,3e4)\n",
    "ax.set_xlabel(r'Energy [GeV]',fontsize=15)\n",
    "ax.set_ylabel(r'$\\sigma$ [pb]',fontsize=15)\n",
    "ax.text(x=0.,y=0.94,s='$B ~C \\\\rightarrow A^* \\\\rightarrow B ~C$', fontsize=10,transform=ax.transAxes)\n",
    "ax.tick_params(axis=\"both\",labelsize=10)\n",
    "ax.set_yscale('log')\n",
    "plt.legend(prop={'size': 10})\n",
    "plt.show()"
   ]
  },
  {
   "cell_type": "markdown",
   "id": "807103a2-1f9c-45ce-a05f-7fe4727d1d62",
   "metadata": {},
   "source": [
    "### Summary\n",
    "\n",
    "- pymcabc is a Toy Toolbox for the ABC Model - to evaluate cross-section, simulate scattering process\n",
    "- The package can also generate subsequent decays of heavy particles produced in the final state\n",
    "- it includes toy detector simulation"
   ]
  },
  {
   "cell_type": "markdown",
   "id": "a448b703-0370-4015-bf89-017da84c3e05",
   "metadata": {},
   "source": [
    "For more details and other applications, please see: \n",
    "\n",
    "1. https://doi.org/10.5281/zenodo.7546325"
   ]
  },
  {
   "cell_type": "code",
   "execution_count": null,
   "id": "d57123a1-2ff2-4757-b6dd-52772063ce98",
   "metadata": {},
   "outputs": [],
   "source": [
    "! rm *png *root *csv *json *pdf"
   ]
  }
 ],
 "metadata": {
  "kernelspec": {
   "display_name": "Python 3 (ipykernel)",
   "language": "python",
   "name": "python3"
  },
  "language_info": {
   "codemirror_mode": {
    "name": "ipython",
    "version": 3
   },
   "file_extension": ".py",
   "mimetype": "text/x-python",
   "name": "python",
   "nbconvert_exporter": "python",
   "pygments_lexer": "ipython3",
   "version": "3.10.12"
  }
 },
 "nbformat": 4,
 "nbformat_minor": 5
}
